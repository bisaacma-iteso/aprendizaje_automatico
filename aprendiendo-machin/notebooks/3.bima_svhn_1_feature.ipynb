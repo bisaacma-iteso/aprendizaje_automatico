{
 "cells": [
  {
   "cell_type": "markdown",
   "metadata": {},
   "source": [
    "# Assignment 3: Use a single feature with different models"
   ]
  },
  {
   "cell_type": "markdown",
   "metadata": {},
   "source": [
    "### Load full SVHN from HugginFace"
   ]
  },
  {
   "cell_type": "code",
   "execution_count": 1,
   "metadata": {},
   "outputs": [
    {
     "data": {
      "application/vnd.jupyter.widget-view+json": {
       "model_id": "72c1178b6c704b6a9ec3177a8db157b0",
       "version_major": 2,
       "version_minor": 0
      },
      "text/plain": [
       "extra-00001-of-00002.parquet:  31%|###       | 157M/512M [00:00<?, ?B/s]"
      ]
     },
     "metadata": {},
     "output_type": "display_data"
    },
    {
     "data": {
      "application/vnd.jupyter.widget-view+json": {
       "model_id": "414aa19ffb3d41749530fc181a92ca81",
       "version_major": 2,
       "version_minor": 0
      },
      "text/plain": [
       "Generating train split:   0%|          | 0/73257 [00:00<?, ? examples/s]"
      ]
     },
     "metadata": {},
     "output_type": "display_data"
    },
    {
     "data": {
      "application/vnd.jupyter.widget-view+json": {
       "model_id": "ce09aee72bff45c38fbb31716a8e9e3e",
       "version_major": 2,
       "version_minor": 0
      },
      "text/plain": [
       "Generating test split:   0%|          | 0/26032 [00:00<?, ? examples/s]"
      ]
     },
     "metadata": {},
     "output_type": "display_data"
    },
    {
     "data": {
      "application/vnd.jupyter.widget-view+json": {
       "model_id": "2428b9550ba744e68d4b47ddbf4bfd75",
       "version_major": 2,
       "version_minor": 0
      },
      "text/plain": [
       "Generating extra split:   0%|          | 0/531131 [00:00<?, ? examples/s]"
      ]
     },
     "metadata": {},
     "output_type": "display_data"
    }
   ],
   "source": [
    "# Import hugging face dataset\n",
    "import huggingface_hub\n",
    "from datasets import load_dataset\n",
    "\n",
    "# Import cropped-digits dataset\n",
    "dataset_cropped_digits_raw = load_dataset(\"ufldl-stanford/svhn\", \"cropped_digits\")"
   ]
  },
  {
   "cell_type": "markdown",
   "metadata": {},
   "source": [
    "### Common functions"
   ]
  },
  {
   "cell_type": "code",
   "execution_count": 2,
   "metadata": {},
   "outputs": [],
   "source": [
    "import numpy\n",
    "import matplotlib.pyplot as plotter\n",
    "from PIL import Image\n",
    "\n",
    "def get_errors(y, y_predict):\n",
    "    mse = numpy.mean((y - y_predict)**2)\n",
    "    rmse = numpy.sqrt(mse)\n",
    "    mae = numpy.mean(numpy.abs(y - y_predict))\n",
    "\n",
    "    print(f'MSE:{mse} RMSE:{rmse} MAE:{mae}')\n",
    "\n",
    "    return mse, rmse, mae\n",
    "\n",
    "def get_labels_and_pixel_arrays(ds : object):\n",
    "    # Need to extract only the data we care about in numpy arrays\n",
    "    labels = []\n",
    "    first_pixel_red_values = []\n",
    "    ds_sample_size = len(ds)\n",
    "\n",
    "    for sample in ds:\n",
    "        labels.append(sample[\"label\"])\n",
    "        # Convert to RGB\n",
    "        image_pixel_array = sample[\"image\"].convert('RGB').load()\n",
    "        # Append Red value of first pixel (0,0)\n",
    "        first_pixel_red_values.append(image_pixel_array[0,0][0])\n",
    "    \n",
    "    # Convert to numpy\n",
    "    labels = numpy.array(labels).reshape(ds_sample_size, 1)\n",
    "    first_pixel_red_values = numpy.array(first_pixel_red_values).reshape(ds_sample_size, 1)\n",
    "    return labels, first_pixel_red_values"
   ]
  },
  {
   "cell_type": "markdown",
   "metadata": {},
   "source": [
    "### Extract the train dataset\n",
    "Only use the Red RGB value of the first pixel of each image (1 simple Feature)\n",
    "\n",
    "Create corresponding Label and Red value of first pixel arrays"
   ]
  },
  {
   "cell_type": "code",
   "execution_count": 3,
   "metadata": {},
   "outputs": [],
   "source": [
    "# Get dataset subsets\n",
    "ds_train = dataset_cropped_digits_raw[\"train\"]\n",
    "ds_test = dataset_cropped_digits_raw[\"test\"]\n",
    "\n",
    "# Get arrays of interest\n",
    "labels_train, first_pixel_red_values_train = get_labels_and_pixel_arrays(ds_train)\n",
    "labels_test, first_pixel_red_values_test = get_labels_and_pixel_arrays(ds_test)\n"
   ]
  },
  {
   "cell_type": "markdown",
   "metadata": {},
   "source": [
    "### Run with LinearRegression model made on class"
   ]
  },
  {
   "cell_type": "code",
   "execution_count": 6,
   "metadata": {},
   "outputs": [],
   "source": [
    "class LinearRegressionOwn:\n",
    "    def __init__(self,\n",
    "                learning_rate=0.01,\n",
    "                epochs=100\n",
    "                ):\n",
    "        self.learning_rate = learning_rate\n",
    "        self.epochs = epochs\n",
    "        self.weights = None\n",
    "        self.bias = None\n",
    "        return\n",
    "    \n",
    "    def predict(self, X):\n",
    "        return numpy.dot(X, self.weights) + self.bias\n",
    "\n",
    "    def fit(self, X, y):\n",
    "        # Define rows (m) and columns/features (n)\n",
    "        m, n = X.shape\n",
    "\n",
    "        # Define weights, initially we don't care about it, start with random value\n",
    "        # Create a single random weight for each feature\n",
    "        self.weights = numpy.random.rand(n, 1)\n",
    "        # Bias is a scalar\n",
    "        self.bias = numpy.random.rand(1)\n",
    "\n",
    "        # Reshape\n",
    "        y = y.reshape(m, 1)\n",
    "\n",
    "        # Save losses\n",
    "        losses_list = list()\n",
    "        # Save bias\n",
    "        bias_list = list()\n",
    "        # Save weights\n",
    "        weights_list = list()\n",
    "\n",
    "        # Go over each epoch/iterations\n",
    "\n",
    "        for epoch in range(self.epochs):\n",
    "\n",
    "            # calculate prediction\n",
    "            y_predict = numpy.dot(X, self.weights) + self.bias\n",
    "\n",
    "            # get current loss - L - J\n",
    "            # Mean Square Error, this is how bad our prediction is\n",
    "            loss = numpy.mean((y - y_predict)**2)\n",
    "            # Append the loss\n",
    "            losses_list.append(loss)\n",
    "\n",
    "            # calculate gradient\n",
    "            dw = (-2 / m) * numpy.dot(X.T, (y-y_predict))\n",
    "            db = (-2 / m) * numpy.sum((y-y_predict))\n",
    "\n",
    "            # update parameters\n",
    "            self.weights = self.weights - self.learning_rate * dw\n",
    "            self.bias = self.bias - self.learning_rate * db\n",
    "\n",
    "            weights_list.append(self.weights)\n",
    "            bias_list.append(self.bias)\n",
    "\n",
    "            #print(f'epoch:{epoch:#d} loss:{loss} weights:{self.weights} bias:{self.bias}')\n",
    "\n",
    "        return self.weights, self.bias, losses_list, bias_list, weights_list"
   ]
  },
  {
   "cell_type": "markdown",
   "metadata": {},
   "source": [
    "Training"
   ]
  },
  {
   "cell_type": "code",
   "execution_count": 7,
   "metadata": {},
   "outputs": [
    {
     "data": {
      "text/plain": [
       "Text(0, 0.5, 'loss')"
      ]
     },
     "execution_count": 7,
     "metadata": {},
     "output_type": "execute_result"
    },
    {
     "data": {
      "image/png": "[encoded data removed]",
      "text/plain": [
       "<Figure size 640x480 with 3 Axes>"
      ]
     },
     "metadata": {},
     "output_type": "display_data"
    }
   ],
   "source": [
    "learning_rate = 0.00001\n",
    "epochs = 50\n",
    "model = LinearRegressionOwn(learning_rate=learning_rate, epochs=epochs)\n",
    "\n",
    "weights, bias, losses_list, bias_list, weights_list = model.fit(first_pixel_red_values_train, labels_train)\n",
    "\n",
    "plotter.subplot(1, 3, 1)\n",
    "plotter.plot(numpy.arange(len(losses_list)), losses_list)\n",
    "plotter.xlabel(\"epoch\")\n",
    "plotter.ylabel(\"loss\")\n",
    "\n",
    "plotter.subplot(1, 3, 2)\n",
    "plotter.scatter(bias_list, losses_list)\n",
    "plotter.xlabel(\"bias\")\n",
    "plotter.ylabel(\"loss\")\n",
    "\n",
    "plotter.subplot(1, 3, 3)\n",
    "plotter.scatter(weights_list, losses_list)\n",
    "plotter.xlabel(\"weights\")\n",
    "plotter.ylabel(\"loss\")"
   ]
  },
  {
   "cell_type": "markdown",
   "metadata": {},
   "source": [
    "Test prediction"
   ]
  },
  {
   "cell_type": "code",
   "execution_count": 8,
   "metadata": {},
   "outputs": [
    {
     "name": "stdout",
     "output_type": "stream",
     "text": [
      "MSE:9.15946834319939 RMSE:3.026461356634079 MAE:2.4698187500256816\n"
     ]
    }
   ],
   "source": [
    "own_model_prediction = model.predict(first_pixel_red_values_test)\n",
    "own_model_errors = get_errors(labels_test, own_model_prediction)"
   ]
  },
  {
   "cell_type": "markdown",
   "metadata": {},
   "source": [
    "### Run with Normal Equation"
   ]
  },
  {
   "cell_type": "code",
   "execution_count": 9,
   "metadata": {},
   "outputs": [
    {
     "name": "stdout",
     "output_type": "stream",
     "text": [
      "MSE:7.1727313354287645 RMSE:2.678195537190809 MAE:2.3112987704237615\n"
     ]
    }
   ],
   "source": [
    "X_train_with_bias = numpy.c_[numpy.ones((len(first_pixel_red_values_train), 1)), first_pixel_red_values_train]\n",
    "X_train_with_bias_transposed = X_train_with_bias.T\n",
    "theta_array = numpy.linalg.inv(X_train_with_bias_transposed.dot(X_train_with_bias)).dot(X_train_with_bias_transposed).dot(labels_train)\n",
    "\n",
    "X_test_with_bias = numpy.c_[numpy.ones((len(first_pixel_red_values_test),1)), first_pixel_red_values_test]\n",
    "X_test_with_bias[0:5]\n",
    "\n",
    "normal_equation_prediction = X_test_with_bias.dot(theta_array)\n",
    "normal_equation_errors = get_errors(labels_test, normal_equation_prediction)"
   ]
  },
  {
   "cell_type": "markdown",
   "metadata": {},
   "source": [
    "### Run with SKLEARN"
   ]
  },
  {
   "cell_type": "code",
   "execution_count": 10,
   "metadata": {},
   "outputs": [
    {
     "name": "stdout",
     "output_type": "stream",
     "text": [
      "MSE:7.1727313354287645 RMSE:2.678195537190809 MAE:2.3112987704237615\n"
     ]
    }
   ],
   "source": [
    "from sklearn.linear_model import LinearRegression\n",
    "\n",
    "model = LinearRegression()\n",
    "model.fit(first_pixel_red_values_train, labels_train)\n",
    "\n",
    "sklearn_linear_regression_prediction = model.predict(first_pixel_red_values_test)\n",
    "sklean_linear_regression_errors = get_errors(labels_test, sklearn_linear_regression_prediction)"
   ]
  },
  {
   "cell_type": "markdown",
   "metadata": {},
   "source": [
    "# Plot error comparisons between 3 models"
   ]
  },
  {
   "cell_type": "code",
   "execution_count": 11,
   "metadata": {},
   "outputs": [
    {
     "data": {
      "image/png": "[encoded data removed]",
      "text/plain": [
       "<Figure size 640x480 with 1 Axes>"
      ]
     },
     "metadata": {},
     "output_type": "display_data"
    }
   ],
   "source": [
    "metrics = ['MSE', 'RMSE', 'MAE']\n",
    "models = ['Own Linear Regression', 'Normal Equation', 'SKLEARN Linear Regression']\n",
    "colors = ['b', 'g', 'r']\n",
    "\n",
    "all_errors = numpy.array([\n",
    "    own_model_errors,\n",
    "    normal_equation_errors,\n",
    "    sklean_linear_regression_errors\n",
    "])\n",
    "\n",
    "bar_width = 0.2\n",
    "index = numpy.arange(len(metrics))\n",
    "fig, ax = plotter.subplots()\n",
    "\n",
    "bar_positions = [index + i * bar_width for i in range(len(models))]\n",
    "\n",
    "\n",
    "for i, model_metrics in enumerate(all_errors):\n",
    "    ax.bar(bar_positions[i], model_metrics, bar_width, color=colors[i], label=models[i])\n",
    "\n",
    "ax.set_xlabel('Metrics')\n",
    "ax.set_ylabel('Values')\n",
    "ax.set_title('Comparison of MSE, RMSE, and MAE for Different Models')\n",
    "ax.set_xticks(index + bar_width)\n",
    "ax.set_xticklabels(metrics)\n",
    "ax.legend()\n",
    "\n",
    "# Show the plot\n",
    "plotter.tight_layout()\n",
    "plotter.show()"
   ]
  }
 ],
 "metadata": {
  "kernelspec": {
   "display_name": "venv",
   "language": "python",
   "name": "python3"
  },
  "language_info": {
   "codemirror_mode": {
    "name": "ipython",
    "version": 3
   },
   "file_extension": ".py",
   "mimetype": "text/x-python",
   "name": "python",
   "nbconvert_exporter": "python",
   "pygments_lexer": "ipython3",
   "version": "3.10.12"
  }
 },
 "nbformat": 4,
 "nbformat_minor": 2
}
