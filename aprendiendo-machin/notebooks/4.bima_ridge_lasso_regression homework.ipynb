{
 "cells": [
  {
   "cell_type": "markdown",
   "metadata": {},
   "source": [
    "# Regularization (Ridge and Lasso)"
   ]
  },
  {
   "cell_type": "code",
   "execution_count": 1,
   "metadata": {},
   "outputs": [],
   "source": [
    "import numpy as np\n",
    "import matplotlib.pyplot as plt"
   ]
  },
  {
   "cell_type": "markdown",
   "metadata": {},
   "source": [
    "## Import Wine dataset from UCIML"
   ]
  },
  {
   "cell_type": "code",
   "execution_count": 103,
   "metadata": {},
   "outputs": [],
   "source": [
    "from ucimlrepo import fetch_ucirepo\n",
    "import pandas as pd\n",
    "from sklearn.preprocessing import LabelEncoder\n",
    "\n",
    "# fetch dataset (wine)\n",
    "dataset = fetch_ucirepo(id=186)"
   ]
  },
  {
   "cell_type": "code",
   "execution_count": 335,
   "metadata": {},
   "outputs": [
    {
     "name": "stdout",
     "output_type": "stream",
     "text": [
      "X.type:<class 'numpy.ndarray'> y.type:<class 'numpy.ndarray'>\n",
      "X.shape:(6497, 11) y.shape:(6497,)\n"
     ]
    }
   ],
   "source": [
    "# data (as pandas dataframes)\n",
    "#print(dataset)\n",
    "X = dataset.data.features.to_numpy()\n",
    "y = dataset.data.targets.to_numpy().reshape(-1)\n",
    "\n",
    "#y = pd.get_dummies(dataset.data.targets, columns=['Class'])\n",
    "\n",
    "# Initialize LabelEncoder\n",
    "# label_encoder = LabelEncoder()\n",
    "# y = label_encoder.fit_transform(dataset.data.targets['Class'].to_numpy().reshape(-1))\n",
    "\n",
    "print(f'X.type:{type(X)} y.type:{type(y)}')\n",
    "print(f'X.shape:{X.shape} y.shape:{y.shape}')"
   ]
  },
  {
   "cell_type": "code",
   "execution_count": 336,
   "metadata": {},
   "outputs": [
    {
     "name": "stdout",
     "output_type": "stream",
     "text": [
      "(5197, 11) (5197,) (1300, 11) (1300,)\n"
     ]
    }
   ],
   "source": [
    "train_last_index = int(len(X) * 0.8)\n",
    "\n",
    "X_train = X[0:train_last_index]\n",
    "y_train = y[0:train_last_index]\n",
    "\n",
    "X_test = X[train_last_index:]\n",
    "y_test = y[train_last_index:]\n",
    "\n",
    "print(f'{X_train.shape} {y_train.shape} {X_test.shape} {y_test.shape}')"
   ]
  },
  {
   "cell_type": "code",
   "execution_count": 509,
   "metadata": {},
   "outputs": [],
   "source": [
    "from sklearn.linear_model import SGDRegressor\n",
    "from sklearn.linear_model import ElasticNet\n",
    "\n",
    "alpha = 0.2\n",
    "eta0 = 0.000005\n",
    "max_iter = 1500\n",
    "\n",
    "vanilla = SGDRegressor(penalty=None, eta0=eta0, max_iter=max_iter)\n",
    "ridge = SGDRegressor(penalty=\"l2\", alpha=alpha, eta0=eta0, random_state=42, max_iter=max_iter)\n",
    "lasso = SGDRegressor(penalty=\"l1\", alpha=alpha, eta0=eta0, random_state=42, max_iter=max_iter)\n",
    "elastic = SGDRegressor(penalty=\"elasticnet\", alpha=alpha, eta0=eta0, random_state=42, max_iter=max_iter)"
   ]
  },
  {
   "cell_type": "code",
   "execution_count": 510,
   "metadata": {},
   "outputs": [],
   "source": [
    "def fit_predict_and_score(model, X_train, y_train, X_test, y_test):\n",
    "    model.fit(X_train, y_train)\n",
    "    prediction = model.predict(X_test)\n",
    "    score = model.score(X_test, y_test)\n",
    "    print(f'{type(model)} score:{score}')\n",
    "    return prediction, score\n"
   ]
  },
  {
   "cell_type": "code",
   "execution_count": 511,
   "metadata": {},
   "outputs": [
    {
     "name": "stdout",
     "output_type": "stream",
     "text": [
      "<class 'sklearn.linear_model._stochastic_gradient.SGDRegressor'> score:0.039321568472231894\n"
     ]
    }
   ],
   "source": [
    "vanilla_predict, vanilla_score = fit_predict_and_score(vanilla, X_train, y_train, X_test, y_test)\n"
   ]
  },
  {
   "cell_type": "code",
   "execution_count": 512,
   "metadata": {},
   "outputs": [
    {
     "name": "stdout",
     "output_type": "stream",
     "text": [
      "<class 'sklearn.linear_model._stochastic_gradient.SGDRegressor'> score:0.03607739419839362\n"
     ]
    }
   ],
   "source": [
    "ridge_predict, ridge_score = fit_predict_and_score(ridge, X_train, y_train, X_test, y_test)"
   ]
  },
  {
   "cell_type": "code",
   "execution_count": 513,
   "metadata": {},
   "outputs": [
    {
     "name": "stdout",
     "output_type": "stream",
     "text": [
      "<class 'sklearn.linear_model._stochastic_gradient.SGDRegressor'> score:0.00650446754172318\n"
     ]
    }
   ],
   "source": [
    "lasso_predict, lasso_score = fit_predict_and_score(lasso, X_train, y_train, X_test, y_test)"
   ]
  },
  {
   "cell_type": "code",
   "execution_count": 514,
   "metadata": {},
   "outputs": [
    {
     "name": "stdout",
     "output_type": "stream",
     "text": [
      "<class 'sklearn.linear_model._stochastic_gradient.SGDRegressor'> score:0.03182809452980817\n"
     ]
    }
   ],
   "source": [
    "elastic_predict, elastic_score = fit_predict_and_score(elastic, X_train, y_train, X_test, y_test)"
   ]
  },
  {
   "cell_type": "markdown",
   "metadata": {},
   "source": [
    "## Compare scores"
   ]
  },
  {
   "cell_type": "code",
   "execution_count": 518,
   "metadata": {},
   "outputs": [
    {
     "data": {
      "image/png": "[encoded data removed]",
      "text/plain": [
       "<Figure size 640x480 with 1 Axes>"
      ]
     },
     "metadata": {},
     "output_type": "display_data"
    }
   ],
   "source": [
    "metrics = ['R^2/score']\n",
    "models = ['Vanilla', 'Ridge', 'Lasso', 'ElasticNet']\n",
    "colors = ['b', 'g', 'r', 'black']\n",
    "\n",
    "scores = np.array([\n",
    "    vanilla_score,\n",
    "    ridge_score,\n",
    "    lasso_score,\n",
    "    elastic_score\n",
    "])\n",
    "\n",
    "bar_width = 0.2\n",
    "index = np.arange(len(metrics))\n",
    "fig, ax = plt.subplots()\n",
    "\n",
    "bar_positions = [index + i * bar_width for i in range(len(models))]\n",
    "\n",
    "\n",
    "for i, model_metrics in enumerate(scores):\n",
    "    ax.bar(bar_positions[i], model_metrics, bar_width, color=colors[i], label=models[i])\n",
    "\n",
    "ax.set_xlabel('Metrics')\n",
    "ax.set_ylabel('Values')\n",
    "ax.set_title('Comparison of Score for Different Models')\n",
    "ax.set_xticks(index + bar_width)\n",
    "ax.set_xticklabels(metrics)\n",
    "ax.legend()\n",
    "\n",
    "# Show the plot\n",
    "plt.tight_layout()\n",
    "plt.show()"
   ]
  }
 ],
 "metadata": {
  "kernelspec": {
   "display_name": "iteso_aprendizaje_automatico",
   "language": "python",
   "name": "python3"
  },
  "language_info": {
   "codemirror_mode": {
    "name": "ipython",
    "version": 3
   },
   "file_extension": ".py",
   "mimetype": "text/x-python",
   "name": "python",
   "nbconvert_exporter": "python",
   "pygments_lexer": "ipython3",
   "version": "3.10.14"
  }
 },
 "nbformat": 4,
 "nbformat_minor": 2
}
